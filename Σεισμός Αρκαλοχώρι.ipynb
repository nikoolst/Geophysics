{
 "cells": [
  {
   "cell_type": "code",
   "execution_count": 1,
   "id": "9bd0101b",
   "metadata": {},
   "outputs": [],
   "source": [
    "import numpy as np\n",
    "import pandas as pd\n",
    "import matplotlib.pyplot as plt"
   ]
  },
  {
   "cell_type": "code",
   "execution_count": 46,
   "id": "e8a4f9e7",
   "metadata": {},
   "outputs": [],
   "source": [
    "#Δεδομένα σεισμού Αρκαλοχώρι\n",
    "H = 8 #km - εστιακό βάθος\n",
    "t_p = [ 5.28 , 8.22 , 8.8 , 13.63 , 13.81 , 13.13 ] #χρόνος άφιξης p κυμάτων σε 5 διαφορετικο΄ύς σταθμούς\n",
    "t_s = [ 9.88 , 14.93 , 15.69 , 23.39 , 23.98 , 24.35 ] #χρόνος άφιξης p κυμάτων σε 5 διαφορετικο΄ύς σταθμούς"
   ]
  },
  {
   "cell_type": "code",
   "execution_count": 47,
   "id": "79fdf3b5",
   "metadata": {},
   "outputs": [
    {
     "name": "stdout",
     "output_type": "stream",
     "text": [
      "Η χρονική διαφορά άφιξης των s και p κυμάτων είναι: [4.6, 6.71, 6.89, 9.76, 10.17, 11.22] σε κάθε σταθμό αντίστοιχα.\n"
     ]
    }
   ],
   "source": [
    "#Υπολογισμός Δt_sp \n",
    "N = len(t_p)\n",
    "Δt_sp = []\n",
    "\n",
    "for i in range (N):\n",
    "    dt =t_s[i] - t_p[i]\n",
    "    dt = round(dt,2)\n",
    "    Δt_sp.append(dt)\n",
    "    \n",
    "print('Η χρονική διαφορά άφιξης των s και p κυμάτων είναι:',Δt_sp,'σε κάθε σταθμό αντίστοιχα.')"
   ]
  },
  {
   "cell_type": "code",
   "execution_count": 48,
   "id": "9001b42c",
   "metadata": {},
   "outputs": [
    {
     "name": "stdout",
     "output_type": "stream",
     "text": [
      "Η ευθεία ελαχίστων τετραγώνων έχει την μορφή: y= 0.695 x + 0.943 .\n"
     ]
    }
   ],
   "source": [
    "#Μέθοδος ελαχίστων τετραγώνων\n",
    "mean_t_p = np.mean(t_p)\n",
    "mean_Δt_sp = np.mean(Δt_sp)\n",
    "sum1 = 0\n",
    "sum2 = 0\n",
    "for i in range(N):\n",
    "    sum1 += (t_p[i] - mean_t_p) * (Δt_sp[i] - mean_Δt_sp)\n",
    "    sum2 += (t_p[i] - mean_t_p) ** 2\n",
    "m = sum1 / sum2\n",
    "m = round(m,3)\n",
    "c = mean_Δt_sp - (m * mean_t_p)\n",
    "c = round(c,3)\n",
    " \n",
    "print('Η ευθεία ελαχίστων τετραγώνων έχει την μορφή: y=',m,'x +',c, '.')"
   ]
  },
  {
   "cell_type": "code",
   "execution_count": 59,
   "id": "80351a2e",
   "metadata": {
    "scrolled": true
   },
   "outputs": [
    {
     "data": {
      "image/png": "[encoded data removed]",
      "text/plain": [
       "<Figure size 432x288 with 1 Axes>"
      ]
     },
     "metadata": {
      "needs_background": "light"
     },
     "output_type": "display_data"
    }
   ],
   "source": [
    "#Γραφική παράσταση\n",
    "x = np.array(t_p)\n",
    "y = m*x + c\n",
    "plt.plot(x, y, color='green', label='y= 0.695 x + 0.943')\n",
    "plt.scatter(t_p, Δt_sp, c='black') \n",
    "plt.xlabel('t_p (s)')\n",
    "plt.ylabel('Δt_sp (s)')\n",
    "plt.legend()\n",
    "plt.savefig('wadati.png')"
   ]
  },
  {
   "cell_type": "code",
   "execution_count": 60,
   "id": "63fd8196",
   "metadata": {},
   "outputs": [
    {
     "name": "stdout",
     "output_type": "stream",
     "text": [
      "Ο λόγος των ταχυτήτων των p και s κυμάτων είναι: up/us = 1.695 . Η απόκλιση από την θεωρητικά αναμενόμενη τιμή είναι: 2.139 %.\n"
     ]
    }
   ],
   "source": [
    "#Υπολογισμούς λόγου ταχυτήτων p και s κυμάτων\n",
    "up_us = round(1 + m,3)\n",
    "up_us_theory = np.sqrt(3)\n",
    "apoklish = round(((up_us_theory - up_us)/up_us_theory)*100,3)\n",
    "print('Ο λόγος των ταχυτήτων των p και s κυμάτων είναι: up/us =',up_us,'. Η απόκλιση από την θεωρητικά αναμενόμενη τιμή είναι:',apoklish,'%.')"
   ]
  },
  {
   "cell_type": "code",
   "execution_count": 64,
   "id": "b245539d",
   "metadata": {},
   "outputs": [
    {
     "name": "stdout",
     "output_type": "stream",
     "text": [
      "Η σταθερά Poisson έχει τιμή ν = 0.233 . Η απόκλιση από την θεωρητικά αναμενόμενη τιμή είναι: -1.327 %.\n"
     ]
    }
   ],
   "source": [
    "#Σταθερά Poisson\n",
    "us = 3.5 #km/s\n",
    "up = up_us*us\n",
    "ν = (up**2 - 2*(us**2))/(2*(up**2 - us**2))\n",
    "ν_theory = 0.23\n",
    "apoklish1= round(((ν_theory - ν)/ν_theory)*100,3)\n",
    "print('Η σταθερά Poisson έχει τιμή ν =',round(ν,3),'. Η απόκλιση από την θεωρητικά αναμενόμενη τιμή είναι:',apoklish1,'%.')"
   ]
  },
  {
   "cell_type": "code",
   "execution_count": 55,
   "id": "91d544b9",
   "metadata": {},
   "outputs": [
    {
     "data": {
      "text/plain": [
       "-1.3568345323741007"
      ]
     },
     "execution_count": 55,
     "metadata": {},
     "output_type": "execute_result"
    }
   ],
   "source": [
    "#Υπολογισμός t_0\n",
    "t_0 = -c/m\n",
    "t_0"
   ]
  },
  {
   "cell_type": "code",
   "execution_count": 63,
   "id": "641b9d3c",
   "metadata": {},
   "outputs": [
    {
     "name": "stdout",
     "output_type": "stream",
     "text": [
      "Οι παράμετροι Lame είναι μ= 38109750000.0 N/m^2 και λ= 33270764493.75 N/m^2.\n"
     ]
    }
   ],
   "source": [
    "#Παράμετροι Lame\n",
    "ρ = 3111 #kg/m^3 πυκνότητα upper mantle Γης\n",
    "μ = ρ*(us*1000)**2\n",
    "λ = ρ*(up*1000)**2 - 2*μ\n",
    "print('Οι παράμετροι Lame είναι μ=',μ,'N/m^2 και λ=',λ,'N/m^2.')"
   ]
  },
  {
   "cell_type": "code",
   "execution_count": 68,
   "id": "94e6f3d7",
   "metadata": {},
   "outputs": [
    {
     "name": "stdout",
     "output_type": "stream",
     "text": [
      "Η απόσταση κάθε σταθμού από τον σεισμό είναι: [39.27, 57.28, 58.81, 83.31, 86.81, 95.77] σε km.\n",
      "Η απόκλιση κάθε απόστασης που υπολογίσαμε από τα επίσημα δεδομένα είναι: [47.079, 27.857, 23.55, 12.733, 15.133, 22.94] %.\n"
     ]
    }
   ],
   "source": [
    "#Απόσταση σταθμών από επίκεντρο σεισμού\n",
    "R = [] #km\n",
    "for i in range(N):\n",
    "    r = (up*us*Δt_sp[i])/(up-us)\n",
    "    r = round(r,2)\n",
    "    R.append(r)\n",
    "print('Η απόσταση κάθε σταθμού από τον σεισμό είναι:',R, 'σε km.')\n",
    "\n",
    "A= []\n",
    "R_th = [ 26.7 , 44.8 , 47.6 , 73.9 , 75.4 , 77.9 ]\n",
    "for i in range(N):\n",
    "    a = abs(round(((R_th[i] - R[i])/R_th[i])*100,3))\n",
    "    A.append(a)\n",
    "print('Η απόκλιση κάθε απόστασης που υπολογίσαμε από τα επίσημα δεδομένα είναι:',A, '%.')"
   ]
  }
 ],
 "metadata": {
  "kernelspec": {
   "display_name": "Python 3",
   "language": "python",
   "name": "python3"
  },
  "language_info": {
   "codemirror_mode": {
    "name": "ipython",
    "version": 3
   },
   "file_extension": ".py",
   "mimetype": "text/x-python",
   "name": "python",
   "nbconvert_exporter": "python",
   "pygments_lexer": "ipython3",
   "version": "3.8.8"
  }
 },
 "nbformat": 4,
 "nbformat_minor": 5
}
